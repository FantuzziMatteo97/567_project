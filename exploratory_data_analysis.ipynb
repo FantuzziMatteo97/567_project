{
 "cells": [
  {
   "cell_type": "code",
   "execution_count": 28,
   "id": "initial_id",
   "metadata": {
    "collapsed": true,
    "ExecuteTime": {
     "end_time": "2024-04-10T23:29:01.193178Z",
     "start_time": "2024-04-10T23:29:01.190099Z"
    }
   },
   "outputs": [],
   "source": [
    "import matplotlib.pyplot as plt\n",
    "import numpy as np\n",
    "import seaborn as sns\n",
    "from util.file_io import *"
   ]
  },
  {
   "cell_type": "code",
   "outputs": [],
   "source": [
    "symbol_meta_data = read_csv('resource/symbols_valid_meta.csv')"
   ],
   "metadata": {
    "collapsed": false,
    "ExecuteTime": {
     "end_time": "2024-04-10T23:29:01.219836Z",
     "start_time": "2024-04-10T23:29:01.195421Z"
    }
   },
   "id": "b51b8e954900cdf7",
   "execution_count": 29
  },
  {
   "cell_type": "code",
   "outputs": [
    {
     "data": {
      "text/plain": "Index(['Nasdaq Traded', 'Symbol', 'Security Name', 'Listing Exchange',\n       'Market Category', 'ETF', 'Round Lot Size', 'Test Issue',\n       'Financial Status', 'CQS Symbol', 'NASDAQ Symbol', 'NextShares'],\n      dtype='object')"
     },
     "execution_count": 30,
     "metadata": {},
     "output_type": "execute_result"
    }
   ],
   "source": [
    "symbol_meta_data.columns"
   ],
   "metadata": {
    "collapsed": false,
    "ExecuteTime": {
     "end_time": "2024-04-10T23:29:01.225451Z",
     "start_time": "2024-04-10T23:29:01.222450Z"
    }
   },
   "id": "125503e326568149",
   "execution_count": 30
  },
  {
   "cell_type": "code",
   "outputs": [
    {
     "data": {
      "text/plain": "Nasdaq Traded        object\nSymbol               object\nSecurity Name        object\nListing Exchange     object\nMarket Category      object\nETF                  object\nRound Lot Size      float64\nTest Issue           object\nFinancial Status     object\nCQS Symbol           object\nNASDAQ Symbol        object\nNextShares           object\ndtype: object"
     },
     "execution_count": 31,
     "metadata": {},
     "output_type": "execute_result"
    }
   ],
   "source": [
    "# Data type in each column\n",
    "symbol_meta_data.dtypes"
   ],
   "metadata": {
    "collapsed": false,
    "ExecuteTime": {
     "end_time": "2024-04-10T23:29:01.231804Z",
     "start_time": "2024-04-10T23:29:01.229225Z"
    }
   },
   "id": "be3469c92b17f81a",
   "execution_count": 31
  },
  {
   "cell_type": "code",
   "outputs": [
    {
     "ename": "AttributeError",
     "evalue": "'DataFrame' object has no attribute 'unique'",
     "output_type": "error",
     "traceback": [
      "\u001B[0;31m---------------------------------------------------------------------------\u001B[0m",
      "\u001B[0;31mAttributeError\u001B[0m                            Traceback (most recent call last)",
      "\u001B[0;32m/var/folders/sb/4wckybv97dl1hsflchpbj4080000gn/T/ipykernel_42568/2930635392.py\u001B[0m in \u001B[0;36m?\u001B[0;34m()\u001B[0m\n\u001B[1;32m      1\u001B[0m \u001B[0;31m# Num unique values per column\u001B[0m\u001B[0;34m\u001B[0m\u001B[0;34m\u001B[0m\u001B[0m\n\u001B[0;32m----> 2\u001B[0;31m \u001B[0msymbol_meta_data\u001B[0m\u001B[0;34m.\u001B[0m\u001B[0munique\u001B[0m\u001B[0;34m(\u001B[0m\u001B[0;34m)\u001B[0m\u001B[0;34m\u001B[0m\u001B[0;34m\u001B[0m\u001B[0m\n\u001B[0m",
      "\u001B[0;32m/opt/anaconda3/lib/python3.11/site-packages/pandas/core/generic.py\u001B[0m in \u001B[0;36m?\u001B[0;34m(self, name)\u001B[0m\n\u001B[1;32m   6200\u001B[0m             \u001B[0;32mand\u001B[0m \u001B[0mname\u001B[0m \u001B[0;32mnot\u001B[0m \u001B[0;32min\u001B[0m \u001B[0mself\u001B[0m\u001B[0;34m.\u001B[0m\u001B[0m_accessors\u001B[0m\u001B[0;34m\u001B[0m\u001B[0;34m\u001B[0m\u001B[0m\n\u001B[1;32m   6201\u001B[0m             \u001B[0;32mand\u001B[0m \u001B[0mself\u001B[0m\u001B[0;34m.\u001B[0m\u001B[0m_info_axis\u001B[0m\u001B[0;34m.\u001B[0m\u001B[0m_can_hold_identifiers_and_holds_name\u001B[0m\u001B[0;34m(\u001B[0m\u001B[0mname\u001B[0m\u001B[0;34m)\u001B[0m\u001B[0;34m\u001B[0m\u001B[0;34m\u001B[0m\u001B[0m\n\u001B[1;32m   6202\u001B[0m         ):\n\u001B[1;32m   6203\u001B[0m             \u001B[0;32mreturn\u001B[0m \u001B[0mself\u001B[0m\u001B[0;34m[\u001B[0m\u001B[0mname\u001B[0m\u001B[0;34m]\u001B[0m\u001B[0;34m\u001B[0m\u001B[0;34m\u001B[0m\u001B[0m\n\u001B[0;32m-> 6204\u001B[0;31m         \u001B[0;32mreturn\u001B[0m \u001B[0mobject\u001B[0m\u001B[0;34m.\u001B[0m\u001B[0m__getattribute__\u001B[0m\u001B[0;34m(\u001B[0m\u001B[0mself\u001B[0m\u001B[0;34m,\u001B[0m \u001B[0mname\u001B[0m\u001B[0;34m)\u001B[0m\u001B[0;34m\u001B[0m\u001B[0;34m\u001B[0m\u001B[0m\n\u001B[0m",
      "\u001B[0;31mAttributeError\u001B[0m: 'DataFrame' object has no attribute 'unique'"
     ]
    }
   ],
   "source": [
    "# Num unique values per column\n",
    "symbol_meta_data.unique()"
   ],
   "metadata": {
    "collapsed": false,
    "ExecuteTime": {
     "end_time": "2024-04-10T23:29:01.255865Z",
     "start_time": "2024-04-10T23:29:01.235969Z"
    }
   },
   "id": "bb713f88d6a8391",
   "execution_count": 32
  },
  {
   "cell_type": "code",
   "outputs": [
    {
     "data": {
      "text/plain": "  Nasdaq Traded Symbol                                      Security Name  \\\n0             Y      A            Agilent Technologies, Inc. Common Stock   \n1             Y     AA                    Alcoa Corporation Common Stock    \n2             Y   AAAU                       Perth Mint Physical Gold ETF   \n3             Y   AACG  ATA Creativity Global - American Depositary Sh...   \n4             Y   AADR                AdvisorShares Dorsey Wright ADR ETF   \n\n  Listing Exchange Market Category ETF  Round Lot Size Test Issue  \\\n0                N                   N           100.0          N   \n1                N                   N           100.0          N   \n2                P                   Y           100.0          N   \n3                Q               G   N           100.0          N   \n4                P                   Y           100.0          N   \n\n  Financial Status CQS Symbol NASDAQ Symbol NextShares  \n0              NaN          A             A          N  \n1              NaN         AA            AA          N  \n2              NaN       AAAU          AAAU          N  \n3                N        NaN          AACG          N  \n4              NaN       AADR          AADR          N  ",
      "text/html": "<div>\n<style scoped>\n    .dataframe tbody tr th:only-of-type {\n        vertical-align: middle;\n    }\n\n    .dataframe tbody tr th {\n        vertical-align: top;\n    }\n\n    .dataframe thead th {\n        text-align: right;\n    }\n</style>\n<table border=\"1\" class=\"dataframe\">\n  <thead>\n    <tr style=\"text-align: right;\">\n      <th></th>\n      <th>Nasdaq Traded</th>\n      <th>Symbol</th>\n      <th>Security Name</th>\n      <th>Listing Exchange</th>\n      <th>Market Category</th>\n      <th>ETF</th>\n      <th>Round Lot Size</th>\n      <th>Test Issue</th>\n      <th>Financial Status</th>\n      <th>CQS Symbol</th>\n      <th>NASDAQ Symbol</th>\n      <th>NextShares</th>\n    </tr>\n  </thead>\n  <tbody>\n    <tr>\n      <th>0</th>\n      <td>Y</td>\n      <td>A</td>\n      <td>Agilent Technologies, Inc. Common Stock</td>\n      <td>N</td>\n      <td></td>\n      <td>N</td>\n      <td>100.0</td>\n      <td>N</td>\n      <td>NaN</td>\n      <td>A</td>\n      <td>A</td>\n      <td>N</td>\n    </tr>\n    <tr>\n      <th>1</th>\n      <td>Y</td>\n      <td>AA</td>\n      <td>Alcoa Corporation Common Stock</td>\n      <td>N</td>\n      <td></td>\n      <td>N</td>\n      <td>100.0</td>\n      <td>N</td>\n      <td>NaN</td>\n      <td>AA</td>\n      <td>AA</td>\n      <td>N</td>\n    </tr>\n    <tr>\n      <th>2</th>\n      <td>Y</td>\n      <td>AAAU</td>\n      <td>Perth Mint Physical Gold ETF</td>\n      <td>P</td>\n      <td></td>\n      <td>Y</td>\n      <td>100.0</td>\n      <td>N</td>\n      <td>NaN</td>\n      <td>AAAU</td>\n      <td>AAAU</td>\n      <td>N</td>\n    </tr>\n    <tr>\n      <th>3</th>\n      <td>Y</td>\n      <td>AACG</td>\n      <td>ATA Creativity Global - American Depositary Sh...</td>\n      <td>Q</td>\n      <td>G</td>\n      <td>N</td>\n      <td>100.0</td>\n      <td>N</td>\n      <td>N</td>\n      <td>NaN</td>\n      <td>AACG</td>\n      <td>N</td>\n    </tr>\n    <tr>\n      <th>4</th>\n      <td>Y</td>\n      <td>AADR</td>\n      <td>AdvisorShares Dorsey Wright ADR ETF</td>\n      <td>P</td>\n      <td></td>\n      <td>Y</td>\n      <td>100.0</td>\n      <td>N</td>\n      <td>NaN</td>\n      <td>AADR</td>\n      <td>AADR</td>\n      <td>N</td>\n    </tr>\n  </tbody>\n</table>\n</div>"
     },
     "execution_count": 38,
     "metadata": {},
     "output_type": "execute_result"
    }
   ],
   "source": [
    "symbol_meta_data.head()"
   ],
   "metadata": {
    "collapsed": false,
    "ExecuteTime": {
     "end_time": "2024-04-10T23:35:22.908500Z",
     "start_time": "2024-04-10T23:35:22.897938Z"
    }
   },
   "id": "84f0da33fe6d8cbe",
   "execution_count": 38
  },
  {
   "cell_type": "code",
   "outputs": [],
   "source": [
    "stocks = read_csv('resource/stocks/A.csv')"
   ],
   "metadata": {
    "collapsed": false,
    "ExecuteTime": {
     "end_time": "2024-04-10T23:32:17.409305Z",
     "start_time": "2024-04-10T23:32:17.386810Z"
    }
   },
   "id": "c4162c8187e0e8ea",
   "execution_count": 34
  },
  {
   "cell_type": "code",
   "outputs": [
    {
     "data": {
      "text/plain": "Index(['Date', 'Open', 'High', 'Low', 'Close', 'Adj Close', 'Volume'], dtype='object')"
     },
     "execution_count": 35,
     "metadata": {},
     "output_type": "execute_result"
    }
   ],
   "source": [
    "stocks.columns"
   ],
   "metadata": {
    "collapsed": false,
    "ExecuteTime": {
     "end_time": "2024-04-10T23:32:29.878928Z",
     "start_time": "2024-04-10T23:32:29.841436Z"
    }
   },
   "id": "12347bf8b037c3ff",
   "execution_count": 35
  },
  {
   "cell_type": "code",
   "outputs": [
    {
     "data": {
      "text/plain": "Date          object\nOpen         float64\nHigh         float64\nLow          float64\nClose        float64\nAdj Close    float64\nVolume         int64\ndtype: object"
     },
     "execution_count": 37,
     "metadata": {},
     "output_type": "execute_result"
    }
   ],
   "source": [
    "stocks.dtypes"
   ],
   "metadata": {
    "collapsed": false,
    "ExecuteTime": {
     "end_time": "2024-04-10T23:32:41.984540Z",
     "start_time": "2024-04-10T23:32:41.856779Z"
    }
   },
   "id": "9c750b6de0148976",
   "execution_count": 37
  },
  {
   "cell_type": "code",
   "outputs": [],
   "source": [],
   "metadata": {
    "collapsed": false
   },
   "id": "8a870a4aa57843f0"
  }
 ],
 "metadata": {
  "kernelspec": {
   "display_name": "Python 3",
   "language": "python",
   "name": "python3"
  },
  "language_info": {
   "codemirror_mode": {
    "name": "ipython",
    "version": 2
   },
   "file_extension": ".py",
   "mimetype": "text/x-python",
   "name": "python",
   "nbconvert_exporter": "python",
   "pygments_lexer": "ipython2",
   "version": "2.7.6"
  }
 },
 "nbformat": 4,
 "nbformat_minor": 5
}
