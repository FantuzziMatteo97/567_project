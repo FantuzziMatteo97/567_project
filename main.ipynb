{
 "cells": [
  {
   "cell_type": "code",
   "execution_count": 121,
   "id": "initial_id",
   "metadata": {
    "collapsed": true,
    "ExecuteTime": {
     "end_time": "2024-04-15T21:55:03.956463Z",
     "start_time": "2024-04-15T21:55:03.952720Z"
    }
   },
   "outputs": [],
   "source": [
    "import pandas as pd\n"
   ]
  },
  {
   "cell_type": "code",
   "outputs": [
    {
     "data": {
      "text/plain": "   Unnamed: 0        Date        Open        High         Low       Close  \\\n0           0  2010-09-09  102.500000  102.500000  101.139999  101.320000   \n1           1  2010-09-10  101.680000  101.860001  101.300003  101.779999   \n2           2  2010-09-13  102.959999  103.139999  102.500000  103.059998   \n3           3  2010-09-14  102.839996  103.480003  102.379997  103.040001   \n4           4  2010-09-15  102.620003  103.379997  102.400002  103.300003   \n\n   Adj Close  Volume  RSI      MACD    Signal  SMA_5  SMA_20  SMA_60  SMA_120  \n0  78.490952   26500  NaN  0.000000  0.000000    NaN     NaN     NaN      NaN  \n1  78.847305    8600  NaN  0.010320  0.005734    NaN     NaN     NaN      NaN  \n2  79.838921   33750  NaN  0.052843  0.025041    NaN     NaN     NaN      NaN  \n3  79.823387   59400  NaN  0.070166  0.040327    NaN     NaN     NaN      NaN  \n4  80.024826    9250  NaN  0.088448  0.054642  102.5     NaN     NaN      NaN  ",
      "text/html": "<div>\n<style scoped>\n    .dataframe tbody tr th:only-of-type {\n        vertical-align: middle;\n    }\n\n    .dataframe tbody tr th {\n        vertical-align: top;\n    }\n\n    .dataframe thead th {\n        text-align: right;\n    }\n</style>\n<table border=\"1\" class=\"dataframe\">\n  <thead>\n    <tr style=\"text-align: right;\">\n      <th></th>\n      <th>Unnamed: 0</th>\n      <th>Date</th>\n      <th>Open</th>\n      <th>High</th>\n      <th>Low</th>\n      <th>Close</th>\n      <th>Adj Close</th>\n      <th>Volume</th>\n      <th>RSI</th>\n      <th>MACD</th>\n      <th>Signal</th>\n      <th>SMA_5</th>\n      <th>SMA_20</th>\n      <th>SMA_60</th>\n      <th>SMA_120</th>\n    </tr>\n  </thead>\n  <tbody>\n    <tr>\n      <th>0</th>\n      <td>0</td>\n      <td>2010-09-09</td>\n      <td>102.500000</td>\n      <td>102.500000</td>\n      <td>101.139999</td>\n      <td>101.320000</td>\n      <td>78.490952</td>\n      <td>26500</td>\n      <td>NaN</td>\n      <td>0.000000</td>\n      <td>0.000000</td>\n      <td>NaN</td>\n      <td>NaN</td>\n      <td>NaN</td>\n      <td>NaN</td>\n    </tr>\n    <tr>\n      <th>1</th>\n      <td>1</td>\n      <td>2010-09-10</td>\n      <td>101.680000</td>\n      <td>101.860001</td>\n      <td>101.300003</td>\n      <td>101.779999</td>\n      <td>78.847305</td>\n      <td>8600</td>\n      <td>NaN</td>\n      <td>0.010320</td>\n      <td>0.005734</td>\n      <td>NaN</td>\n      <td>NaN</td>\n      <td>NaN</td>\n      <td>NaN</td>\n    </tr>\n    <tr>\n      <th>2</th>\n      <td>2</td>\n      <td>2010-09-13</td>\n      <td>102.959999</td>\n      <td>103.139999</td>\n      <td>102.500000</td>\n      <td>103.059998</td>\n      <td>79.838921</td>\n      <td>33750</td>\n      <td>NaN</td>\n      <td>0.052843</td>\n      <td>0.025041</td>\n      <td>NaN</td>\n      <td>NaN</td>\n      <td>NaN</td>\n      <td>NaN</td>\n    </tr>\n    <tr>\n      <th>3</th>\n      <td>3</td>\n      <td>2010-09-14</td>\n      <td>102.839996</td>\n      <td>103.480003</td>\n      <td>102.379997</td>\n      <td>103.040001</td>\n      <td>79.823387</td>\n      <td>59400</td>\n      <td>NaN</td>\n      <td>0.070166</td>\n      <td>0.040327</td>\n      <td>NaN</td>\n      <td>NaN</td>\n      <td>NaN</td>\n      <td>NaN</td>\n    </tr>\n    <tr>\n      <th>4</th>\n      <td>4</td>\n      <td>2010-09-15</td>\n      <td>102.620003</td>\n      <td>103.379997</td>\n      <td>102.400002</td>\n      <td>103.300003</td>\n      <td>80.024826</td>\n      <td>9250</td>\n      <td>NaN</td>\n      <td>0.088448</td>\n      <td>0.054642</td>\n      <td>102.5</td>\n      <td>NaN</td>\n      <td>NaN</td>\n      <td>NaN</td>\n    </tr>\n  </tbody>\n</table>\n</div>"
     },
     "execution_count": 122,
     "metadata": {},
     "output_type": "execute_result"
    }
   ],
   "source": [
    "datasets = pd.read_csv('data/VOO_processed.csv')\n",
    "datasets.head()"
   ],
   "metadata": {
    "collapsed": false,
    "ExecuteTime": {
     "end_time": "2024-04-15T21:55:03.989071Z",
     "start_time": "2024-04-15T21:55:03.959100Z"
    }
   },
   "id": "a3bdfe2493ddcd6c",
   "execution_count": 122
  },
  {
   "cell_type": "code",
   "outputs": [
    {
     "data": {
      "text/plain": "     Unnamed: 0        Date        Open        High         Low       Close  \\\n120         120  2011-03-02  119.620003  120.559998  119.500000  120.040001   \n121         121  2011-03-03  121.080002  122.239998  121.080002  122.099998   \n122         122  2011-03-04  122.059998  122.059998  120.400002  121.199997   \n123         123  2011-03-07  121.599998  121.739998  119.599998  120.139999   \n124         124  2011-03-08  120.419998  121.620003  119.959999  121.260002   \n\n     Adj Close  Volume        RSI      MACD    Signal       SMA_5      SMA_20  \\\n120  93.926117  176350  45.420586  0.631051  0.998049  120.467999  120.979999   \n121  95.537979  136450  51.333331  0.694046  0.937249  120.935999  121.117999   \n122  94.833794  168250  46.507919  0.663701  0.882539  120.963998  121.195999   \n123  94.004372  155200  44.326778  0.547811  0.815593  120.635999  121.204999   \n124  94.880722  106350  45.722730  0.540110  0.760497  120.948000  121.231999   \n\n         SMA_60     SMA_120  \n120  117.596333  112.540167  \n121  117.761333  112.709500  \n122  117.910667  112.860667  \n123  118.034667  113.003167  \n124  118.170333  113.152833  ",
      "text/html": "<div>\n<style scoped>\n    .dataframe tbody tr th:only-of-type {\n        vertical-align: middle;\n    }\n\n    .dataframe tbody tr th {\n        vertical-align: top;\n    }\n\n    .dataframe thead th {\n        text-align: right;\n    }\n</style>\n<table border=\"1\" class=\"dataframe\">\n  <thead>\n    <tr style=\"text-align: right;\">\n      <th></th>\n      <th>Unnamed: 0</th>\n      <th>Date</th>\n      <th>Open</th>\n      <th>High</th>\n      <th>Low</th>\n      <th>Close</th>\n      <th>Adj Close</th>\n      <th>Volume</th>\n      <th>RSI</th>\n      <th>MACD</th>\n      <th>Signal</th>\n      <th>SMA_5</th>\n      <th>SMA_20</th>\n      <th>SMA_60</th>\n      <th>SMA_120</th>\n    </tr>\n  </thead>\n  <tbody>\n    <tr>\n      <th>120</th>\n      <td>120</td>\n      <td>2011-03-02</td>\n      <td>119.620003</td>\n      <td>120.559998</td>\n      <td>119.500000</td>\n      <td>120.040001</td>\n      <td>93.926117</td>\n      <td>176350</td>\n      <td>45.420586</td>\n      <td>0.631051</td>\n      <td>0.998049</td>\n      <td>120.467999</td>\n      <td>120.979999</td>\n      <td>117.596333</td>\n      <td>112.540167</td>\n    </tr>\n    <tr>\n      <th>121</th>\n      <td>121</td>\n      <td>2011-03-03</td>\n      <td>121.080002</td>\n      <td>122.239998</td>\n      <td>121.080002</td>\n      <td>122.099998</td>\n      <td>95.537979</td>\n      <td>136450</td>\n      <td>51.333331</td>\n      <td>0.694046</td>\n      <td>0.937249</td>\n      <td>120.935999</td>\n      <td>121.117999</td>\n      <td>117.761333</td>\n      <td>112.709500</td>\n    </tr>\n    <tr>\n      <th>122</th>\n      <td>122</td>\n      <td>2011-03-04</td>\n      <td>122.059998</td>\n      <td>122.059998</td>\n      <td>120.400002</td>\n      <td>121.199997</td>\n      <td>94.833794</td>\n      <td>168250</td>\n      <td>46.507919</td>\n      <td>0.663701</td>\n      <td>0.882539</td>\n      <td>120.963998</td>\n      <td>121.195999</td>\n      <td>117.910667</td>\n      <td>112.860667</td>\n    </tr>\n    <tr>\n      <th>123</th>\n      <td>123</td>\n      <td>2011-03-07</td>\n      <td>121.599998</td>\n      <td>121.739998</td>\n      <td>119.599998</td>\n      <td>120.139999</td>\n      <td>94.004372</td>\n      <td>155200</td>\n      <td>44.326778</td>\n      <td>0.547811</td>\n      <td>0.815593</td>\n      <td>120.635999</td>\n      <td>121.204999</td>\n      <td>118.034667</td>\n      <td>113.003167</td>\n    </tr>\n    <tr>\n      <th>124</th>\n      <td>124</td>\n      <td>2011-03-08</td>\n      <td>120.419998</td>\n      <td>121.620003</td>\n      <td>119.959999</td>\n      <td>121.260002</td>\n      <td>94.880722</td>\n      <td>106350</td>\n      <td>45.722730</td>\n      <td>0.540110</td>\n      <td>0.760497</td>\n      <td>120.948000</td>\n      <td>121.231999</td>\n      <td>118.170333</td>\n      <td>113.152833</td>\n    </tr>\n  </tbody>\n</table>\n</div>"
     },
     "execution_count": 123,
     "metadata": {},
     "output_type": "execute_result"
    }
   ],
   "source": [
    "datasets = datasets[120:]\n",
    "datasets.head()"
   ],
   "metadata": {
    "collapsed": false,
    "ExecuteTime": {
     "end_time": "2024-04-15T21:55:03.989771Z",
     "start_time": "2024-04-15T21:55:03.981430Z"
    }
   },
   "id": "dfc381814113b8c6",
   "execution_count": 123
  },
  {
   "cell_type": "code",
   "outputs": [
    {
     "data": {
      "text/plain": "Index(['Unnamed: 0', 'Date', 'Open', 'High', 'Low', 'Close', 'Adj Close',\n       'Volume', 'RSI', 'MACD', 'Signal', 'SMA_5', 'SMA_20', 'SMA_60',\n       'SMA_120'],\n      dtype='object')"
     },
     "execution_count": 124,
     "metadata": {},
     "output_type": "execute_result"
    }
   ],
   "source": [
    "datasets.columns"
   ],
   "metadata": {
    "collapsed": false,
    "ExecuteTime": {
     "end_time": "2024-04-15T21:55:03.990264Z",
     "start_time": "2024-04-15T21:55:03.984343Z"
    }
   },
   "id": "7746560b9ebbc36c",
   "execution_count": 124
  },
  {
   "cell_type": "code",
   "outputs": [
    {
     "data": {
      "text/plain": "Unnamed: 0      int64\nDate           object\nOpen          float64\nHigh          float64\nLow           float64\nClose         float64\nAdj Close     float64\nVolume          int64\nRSI           float64\nMACD          float64\nSignal        float64\nSMA_5         float64\nSMA_20        float64\nSMA_60        float64\nSMA_120       float64\ndtype: object"
     },
     "execution_count": 125,
     "metadata": {},
     "output_type": "execute_result"
    }
   ],
   "source": [
    "datasets.dtypes"
   ],
   "metadata": {
    "collapsed": false,
    "ExecuteTime": {
     "end_time": "2024-04-15T21:55:03.992591Z",
     "start_time": "2024-04-15T21:55:03.988768Z"
    }
   },
   "id": "365afaaf8d22302d",
   "execution_count": 125
  },
  {
   "cell_type": "code",
   "outputs": [
    {
     "data": {
      "text/plain": "(3301, 15)"
     },
     "execution_count": 126,
     "metadata": {},
     "output_type": "execute_result"
    }
   ],
   "source": [
    "datasets.shape"
   ],
   "metadata": {
    "collapsed": false,
    "ExecuteTime": {
     "end_time": "2024-04-15T21:55:03.999747Z",
     "start_time": "2024-04-15T21:55:03.992037Z"
    }
   },
   "id": "dd0dd0c9ef4aa13f",
   "execution_count": 126
  },
  {
   "cell_type": "code",
   "outputs": [
    {
     "data": {
      "text/plain": "Unnamed: 0    0\nDate          0\nOpen          0\nHigh          0\nLow           0\nClose         0\nAdj Close     0\nVolume        0\nRSI           0\nMACD          0\nSignal        0\nSMA_5         0\nSMA_20        0\nSMA_60        0\nSMA_120       0\ndtype: int64"
     },
     "execution_count": 127,
     "metadata": {},
     "output_type": "execute_result"
    }
   ],
   "source": [
    "datasets.isnull().sum()"
   ],
   "metadata": {
    "collapsed": false,
    "ExecuteTime": {
     "end_time": "2024-04-15T21:55:04.000940Z",
     "start_time": "2024-04-15T21:55:03.995603Z"
    }
   },
   "id": "1c89e7e5be8711b2",
   "execution_count": 127
  },
  {
   "cell_type": "code",
   "outputs": [
    {
     "data": {
      "text/plain": "           Open        High         Low       Close  Adj Close  Volume  \\\n120  119.620003  120.559998  119.500000  120.040001  93.926117  176350   \n121  121.080002  122.239998  121.080002  122.099998  95.537979  136450   \n122  122.059998  122.059998  120.400002  121.199997  94.833794  168250   \n123  121.599998  121.739998  119.599998  120.139999  94.004372  155200   \n124  120.419998  121.620003  119.959999  121.260002  94.880722  106350   \n\n           RSI      MACD    Signal       SMA_5      SMA_20      SMA_60  \\\n120  45.420586  0.631051  0.998049  120.467999  120.979999  117.596333   \n121  51.333331  0.694046  0.937249  120.935999  121.117999  117.761333   \n122  46.507919  0.663701  0.882539  120.963998  121.195999  117.910667   \n123  44.326778  0.547811  0.815593  120.635999  121.204999  118.034667   \n124  45.722730  0.540110  0.760497  120.948000  121.231999  118.170333   \n\n        SMA_120  \n120  112.540167  \n121  112.709500  \n122  112.860667  \n123  113.003167  \n124  113.152833  ",
      "text/html": "<div>\n<style scoped>\n    .dataframe tbody tr th:only-of-type {\n        vertical-align: middle;\n    }\n\n    .dataframe tbody tr th {\n        vertical-align: top;\n    }\n\n    .dataframe thead th {\n        text-align: right;\n    }\n</style>\n<table border=\"1\" class=\"dataframe\">\n  <thead>\n    <tr style=\"text-align: right;\">\n      <th></th>\n      <th>Open</th>\n      <th>High</th>\n      <th>Low</th>\n      <th>Close</th>\n      <th>Adj Close</th>\n      <th>Volume</th>\n      <th>RSI</th>\n      <th>MACD</th>\n      <th>Signal</th>\n      <th>SMA_5</th>\n      <th>SMA_20</th>\n      <th>SMA_60</th>\n      <th>SMA_120</th>\n    </tr>\n  </thead>\n  <tbody>\n    <tr>\n      <th>120</th>\n      <td>119.620003</td>\n      <td>120.559998</td>\n      <td>119.500000</td>\n      <td>120.040001</td>\n      <td>93.926117</td>\n      <td>176350</td>\n      <td>45.420586</td>\n      <td>0.631051</td>\n      <td>0.998049</td>\n      <td>120.467999</td>\n      <td>120.979999</td>\n      <td>117.596333</td>\n      <td>112.540167</td>\n    </tr>\n    <tr>\n      <th>121</th>\n      <td>121.080002</td>\n      <td>122.239998</td>\n      <td>121.080002</td>\n      <td>122.099998</td>\n      <td>95.537979</td>\n      <td>136450</td>\n      <td>51.333331</td>\n      <td>0.694046</td>\n      <td>0.937249</td>\n      <td>120.935999</td>\n      <td>121.117999</td>\n      <td>117.761333</td>\n      <td>112.709500</td>\n    </tr>\n    <tr>\n      <th>122</th>\n      <td>122.059998</td>\n      <td>122.059998</td>\n      <td>120.400002</td>\n      <td>121.199997</td>\n      <td>94.833794</td>\n      <td>168250</td>\n      <td>46.507919</td>\n      <td>0.663701</td>\n      <td>0.882539</td>\n      <td>120.963998</td>\n      <td>121.195999</td>\n      <td>117.910667</td>\n      <td>112.860667</td>\n    </tr>\n    <tr>\n      <th>123</th>\n      <td>121.599998</td>\n      <td>121.739998</td>\n      <td>119.599998</td>\n      <td>120.139999</td>\n      <td>94.004372</td>\n      <td>155200</td>\n      <td>44.326778</td>\n      <td>0.547811</td>\n      <td>0.815593</td>\n      <td>120.635999</td>\n      <td>121.204999</td>\n      <td>118.034667</td>\n      <td>113.003167</td>\n    </tr>\n    <tr>\n      <th>124</th>\n      <td>120.419998</td>\n      <td>121.620003</td>\n      <td>119.959999</td>\n      <td>121.260002</td>\n      <td>94.880722</td>\n      <td>106350</td>\n      <td>45.722730</td>\n      <td>0.540110</td>\n      <td>0.760497</td>\n      <td>120.948000</td>\n      <td>121.231999</td>\n      <td>118.170333</td>\n      <td>113.152833</td>\n    </tr>\n  </tbody>\n</table>\n</div>"
     },
     "execution_count": 128,
     "metadata": {},
     "output_type": "execute_result"
    }
   ],
   "source": [
    "#60, 20, 20\n",
    "n_train = int(0.6 * len(datasets))\n",
    "n_test = int((len(datasets) - n_train) / 2) \n",
    "n_validation = int((len(datasets) - n_train) / 2)\n",
    "\n",
    "datasets = datasets.drop('Date', axis=1)\n",
    "datasets = datasets.drop('Unnamed: 0',axis =1)\n",
    "\n",
    "train_data = datasets[:n_train]\n",
    "test_data = datasets[n_train:n_train + n_test]\n",
    "val_data = datasets[n_train + n_test:]\n",
    "\n",
    "datasets.head()"
   ],
   "metadata": {
    "collapsed": false,
    "ExecuteTime": {
     "end_time": "2024-04-15T21:55:04.058074Z",
     "start_time": "2024-04-15T21:55:04.001902Z"
    }
   },
   "id": "19bd86e7d4665af2",
   "execution_count": 128
  },
  {
   "cell_type": "code",
   "outputs": [
    {
     "name": "stdout",
     "output_type": "stream",
     "text": [
      "(1980, 13)\n",
      "(661, 13)\n",
      "(661, 13)\n"
     ]
    }
   ],
   "source": [
    "print(train_data.shape)\n",
    "print(val_data.shape)\n",
    "print(val_data.shape)"
   ],
   "metadata": {
    "collapsed": false,
    "ExecuteTime": {
     "end_time": "2024-04-15T21:55:04.058810Z",
     "start_time": "2024-04-15T21:55:04.011420Z"
    }
   },
   "id": "9b9b59848f0695cd",
   "execution_count": 129
  },
  {
   "cell_type": "code",
   "outputs": [],
   "source": [
    "train_y, train_x = train_data['Close'], train_data\n",
    "val_y, val_x = val_data['Close'], val_data\n",
    "test_y, test_x = val_data['Close'], test_data"
   ],
   "metadata": {
    "collapsed": false,
    "ExecuteTime": {
     "end_time": "2024-04-15T21:55:04.059414Z",
     "start_time": "2024-04-15T21:55:04.015481Z"
    }
   },
   "id": "f3eb7fa90491010d",
   "execution_count": 130
  },
  {
   "cell_type": "code",
   "outputs": [
    {
     "data": {
      "text/plain": "120    120.040001\n121    122.099998\n122    121.199997\n123    120.139999\n124    121.260002\nName: Close, dtype: float64"
     },
     "execution_count": 131,
     "metadata": {},
     "output_type": "execute_result"
    }
   ],
   "source": [
    "train_y.head()"
   ],
   "metadata": {
    "collapsed": false,
    "ExecuteTime": {
     "end_time": "2024-04-15T21:55:04.059583Z",
     "start_time": "2024-04-15T21:55:04.016837Z"
    }
   },
   "id": "d78e973f6b044189",
   "execution_count": 131
  },
  {
   "cell_type": "code",
   "outputs": [
    {
     "name": "stdout",
     "output_type": "stream",
     "text": [
      "Unexpected exception formatting exception. Falling back to standard exception\n"
     ]
    },
    {
     "name": "stderr",
     "output_type": "stream",
     "text": [
      "/opt/anaconda3/lib/python3.11/site-packages/keras/src/layers/rnn/rnn.py:204: UserWarning: Do not pass an `input_shape`/`input_dim` argument to a layer. When using Sequential models, prefer using an `Input(shape)` object as the first layer in the model instead.\n",
      "  super().__init__(**kwargs)\n",
      "Traceback (most recent call last):\n",
      "  File \"/opt/anaconda3/lib/python3.11/site-packages/IPython/core/interactiveshell.py\", line 3553, in run_code\n",
      "    exec(code_obj, self.user_global_ns, self.user_ns)\n",
      "  File \"/var/folders/sb/4wckybv97dl1hsflchpbj4080000gn/T/ipykernel_83011/1145827233.py\", line 4, in <module>\n",
      "    rnn.train(train_x, train_y)\n",
      "  File \"/Users/jiwon_hae/PycharmProjects/USC/Spring2024/CSCI567_Machine_Learning/group_project/567_project/models/rnn.py\", line 24, in train\n",
      "    x_seq, y_seq = [], []\n",
      "  File \"/opt/anaconda3/lib/python3.11/site-packages/keras/src/utils/traceback_utils.py\", line 122, in error_handler\n",
      "    raise e.with_traceback(filtered_tb) from None\n",
      "  File \"/opt/anaconda3/lib/python3.11/site-packages/keras/src/trainers/data_adapters/data_adapter_utils.py\", line 103, in <genexpr>\n",
      "    num_samples = set(int(i.shape[0]) for i in tree.flatten(data))\n",
      "                          ~~~~~~~^^^\n",
      "IndexError: tuple index out of range\n",
      "\n",
      "During handling of the above exception, another exception occurred:\n",
      "\n",
      "Traceback (most recent call last):\n",
      "  File \"/opt/anaconda3/lib/python3.11/site-packages/IPython/core/interactiveshell.py\", line 2144, in showtraceback\n",
      "    stb = self.InteractiveTB.structured_traceback(\n",
      "          ^^^^^^^^^^^^^^^^^^^^^^^^^^^^^^^^^^^^^^^^\n",
      "  File \"/opt/anaconda3/lib/python3.11/site-packages/IPython/core/ultratb.py\", line 1435, in structured_traceback\n",
      "    return FormattedTB.structured_traceback(\n",
      "           ^^^^^^^^^^^^^^^^^^^^^^^^^^^^^^^^^\n",
      "  File \"/opt/anaconda3/lib/python3.11/site-packages/IPython/core/ultratb.py\", line 1326, in structured_traceback\n",
      "    return VerboseTB.structured_traceback(\n",
      "           ^^^^^^^^^^^^^^^^^^^^^^^^^^^^^^^\n",
      "  File \"/opt/anaconda3/lib/python3.11/site-packages/IPython/core/ultratb.py\", line 1173, in structured_traceback\n",
      "    formatted_exception = self.format_exception_as_a_whole(etype, evalue, etb, number_of_lines_of_context,\n",
      "                          ^^^^^^^^^^^^^^^^^^^^^^^^^^^^^^^^^^^^^^^^^^^^^^^^^^^^^^^^^^^^^^^^^^^^^^^^^^^^^^^^\n",
      "  File \"/opt/anaconda3/lib/python3.11/site-packages/IPython/core/ultratb.py\", line 1088, in format_exception_as_a_whole\n",
      "    frames.append(self.format_record(record))\n",
      "                  ^^^^^^^^^^^^^^^^^^^^^^^^^^\n",
      "  File \"/opt/anaconda3/lib/python3.11/site-packages/IPython/core/ultratb.py\", line 970, in format_record\n",
      "    frame_info.lines, Colors, self.has_colors, lvals\n",
      "    ^^^^^^^^^^^^^^^^\n",
      "  File \"/opt/anaconda3/lib/python3.11/site-packages/IPython/core/ultratb.py\", line 792, in lines\n",
      "    return self._sd.lines\n",
      "           ^^^^^^^^^^^^^^\n",
      "  File \"/opt/anaconda3/lib/python3.11/site-packages/stack_data/utils.py\", line 145, in cached_property_wrapper\n",
      "    value = obj.__dict__[self.func.__name__] = self.func(obj)\n",
      "                                               ^^^^^^^^^^^^^^\n",
      "  File \"/opt/anaconda3/lib/python3.11/site-packages/stack_data/core.py\", line 698, in lines\n",
      "    pieces = self.included_pieces\n",
      "             ^^^^^^^^^^^^^^^^^^^^\n",
      "  File \"/opt/anaconda3/lib/python3.11/site-packages/stack_data/utils.py\", line 145, in cached_property_wrapper\n",
      "    value = obj.__dict__[self.func.__name__] = self.func(obj)\n",
      "                                               ^^^^^^^^^^^^^^\n",
      "  File \"/opt/anaconda3/lib/python3.11/site-packages/stack_data/core.py\", line 649, in included_pieces\n",
      "    pos = scope_pieces.index(self.executing_piece)\n",
      "                             ^^^^^^^^^^^^^^^^^^^^\n",
      "  File \"/opt/anaconda3/lib/python3.11/site-packages/stack_data/utils.py\", line 145, in cached_property_wrapper\n",
      "    value = obj.__dict__[self.func.__name__] = self.func(obj)\n",
      "                                               ^^^^^^^^^^^^^^\n",
      "  File \"/opt/anaconda3/lib/python3.11/site-packages/stack_data/core.py\", line 628, in executing_piece\n",
      "    return only(\n",
      "           ^^^^^\n",
      "  File \"/opt/anaconda3/lib/python3.11/site-packages/executing/executing.py\", line 164, in only\n",
      "    raise NotOneValueFound('Expected one value, found 0')\n",
      "executing.executing.NotOneValueFound: Expected one value, found 0\n"
     ]
    }
   ],
   "source": [
    "from models.rnn import RNN\n",
    "\n",
    "rnn = RNN(timesteps=5, input_d = train_data.shape[1])\n",
    "rnn.train(train_x, train_y)"
   ],
   "metadata": {
    "collapsed": false,
    "ExecuteTime": {
     "end_time": "2024-04-15T21:56:02.631653Z",
     "start_time": "2024-04-15T21:56:02.578042Z"
    }
   },
   "id": "882b979df3780940",
   "execution_count": 133
  },
  {
   "cell_type": "code",
   "outputs": [],
   "source": [],
   "metadata": {
    "collapsed": false,
    "ExecuteTime": {
     "start_time": "2024-04-15T21:55:04.083334Z"
    }
   },
   "id": "8eb83fad151cd4a2",
   "execution_count": null
  }
 ],
 "metadata": {
  "kernelspec": {
   "display_name": "Python 3",
   "language": "python",
   "name": "python3"
  },
  "language_info": {
   "codemirror_mode": {
    "name": "ipython",
    "version": 2
   },
   "file_extension": ".py",
   "mimetype": "text/x-python",
   "name": "python",
   "nbconvert_exporter": "python",
   "pygments_lexer": "ipython2",
   "version": "2.7.6"
  }
 },
 "nbformat": 4,
 "nbformat_minor": 5
}
